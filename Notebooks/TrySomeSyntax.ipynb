{
 "cells": [
  {
   "cell_type": "code",
   "execution_count": 1,
   "metadata": {},
   "outputs": [],
   "source": [
    "import pandas as pd\n",
    "import numpy as np"
   ]
  },
  {
   "cell_type": "code",
   "execution_count": 2,
   "metadata": {},
   "outputs": [
    {
     "data": {
      "text/html": [
       "<div>\n",
       "<style scoped>\n",
       "    .dataframe tbody tr th:only-of-type {\n",
       "        vertical-align: middle;\n",
       "    }\n",
       "\n",
       "    .dataframe tbody tr th {\n",
       "        vertical-align: top;\n",
       "    }\n",
       "\n",
       "    .dataframe thead th {\n",
       "        text-align: right;\n",
       "    }\n",
       "</style>\n",
       "<table border=\"1\" class=\"dataframe\">\n",
       "  <thead>\n",
       "    <tr style=\"text-align: right;\">\n",
       "      <th></th>\n",
       "      <th>a</th>\n",
       "      <th>b</th>\n",
       "      <th>c</th>\n",
       "      <th>d</th>\n",
       "    </tr>\n",
       "  </thead>\n",
       "  <tbody>\n",
       "    <tr>\n",
       "      <th>0</th>\n",
       "      <td>1</td>\n",
       "      <td>2</td>\n",
       "      <td>3</td>\n",
       "      <td>4</td>\n",
       "    </tr>\n",
       "    <tr>\n",
       "      <th>1</th>\n",
       "      <td>11</td>\n",
       "      <td>21</td>\n",
       "      <td>31</td>\n",
       "      <td>41</td>\n",
       "    </tr>\n",
       "    <tr>\n",
       "      <th>2</th>\n",
       "      <td>12</td>\n",
       "      <td>22</td>\n",
       "      <td>32</td>\n",
       "      <td>42</td>\n",
       "    </tr>\n",
       "  </tbody>\n",
       "</table>\n",
       "</div>"
      ],
      "text/plain": [
       "    a   b   c   d\n",
       "0   1   2   3   4\n",
       "1  11  21  31  41\n",
       "2  12  22  32  42"
      ]
     },
     "execution_count": 2,
     "metadata": {},
     "output_type": "execute_result"
    }
   ],
   "source": [
    "d = pd.DataFrame([[1,2,3,4], [11,21,31,41], [12,22,32,42]], columns=['a', 'b', 'c', 'd'])\n",
    "d"
   ]
  },
  {
   "cell_type": "code",
   "execution_count": 3,
   "metadata": {},
   "outputs": [
    {
     "name": "stdout",
     "output_type": "stream",
     "text": [
      "{'a': 1, 'b': 2, 'c': 3, 'd': 4}\n",
      "{'a': 11, 'b': 21, 'c': 31, 'd': 41}\n",
      "{'a': 12, 'b': 22, 'c': 32, 'd': 42}\n"
     ]
    }
   ],
   "source": [
    "for r in d.values:\n",
    "    print(dict(zip(d.columns, r)))"
   ]
  },
  {
   "cell_type": "code",
   "execution_count": null,
   "metadata": {},
   "outputs": [],
   "source": []
  },
  {
   "cell_type": "code",
   "execution_count": 4,
   "metadata": {},
   "outputs": [],
   "source": [
    "import requests"
   ]
  },
  {
   "cell_type": "code",
   "execution_count": 5,
   "metadata": {},
   "outputs": [],
   "source": [
    "s = \"AntiSpam-Result: NO\\nAntiSpam-Score: 0\\n\\n, Return-Path: <0007@d.r>\\n, X-Original-To: dsivtsov\\n, Delivered-To: dsivtsov@antispam-msu.site\\n, Received: from localhost (localhost [127.0.0.1])\\n, \\tby abu2020 (Postfix) with SMTP id AA38B100239\\n, \\tfor <dsivtsov>; Tue, 23 Mar 2021 21:06:03 +0000 (UTC)\\n, Message-Id: <20210323210613.AA38B100239@abu2020>\\n, Date: Tue, 23 Mar 2021 21:06:03 +0000 (UTC)\\n, From: 0007@d.r\\n, \\n, sdsdsd\\n, \\n\""
   ]
  },
  {
   "cell_type": "code",
   "execution_count": 6,
   "metadata": {},
   "outputs": [
    {
     "data": {
      "text/plain": [
       "'AntiSpam-Result: NO\\nAntiSpam-Score: 0\\n\\n, Return-Path: <0007@d.r>\\n, X-Original-To: dsivtsov\\n, Delivered-To: dsivtsov@antispam-msu.site\\n, Received: from localhost (localhost [127.0.0.1])\\n, \\tby abu2020 (Postfix) with SMTP id AA38B100239\\n, \\tfor <dsivtsov>; Tue, 23 Mar 2021 21:06:03 +0000 (UTC)\\n, Message-Id: <20210323210613.AA38B100239@abu2020>\\n, Date: Tue, 23 Mar 2021 21:06:03 +0000 (UTC)\\n, From: 0007@d.r\\n, \\n, sdsdsd\\n, \\n'"
      ]
     },
     "execution_count": 6,
     "metadata": {},
     "output_type": "execute_result"
    }
   ],
   "source": [
    "s"
   ]
  },
  {
   "cell_type": "code",
   "execution_count": null,
   "metadata": {},
   "outputs": [],
   "source": []
  },
  {
   "cell_type": "code",
   "execution_count": 7,
   "metadata": {},
   "outputs": [],
   "source": [
    "letter = ['dsivtsovcs.msu.sudsivtsov@cs.msu.suFrom 0007@d.r  Tue Mar 23 21:06:20 2021',\n",
    "'Return-Path: <0007@d.r>',\n",
    "'X-Original-To: dsivtsov',\n",
    "'Delivered-To: dsivtsov@antispam-msu.site',\n",
    "'Received: from localhost (localhost [127.0.0.1])',\n",
    "'        by abu2020 (Postfix) with SMTP id AA38B100239',\n",
    "'        for <dsivtsov>; Tue, 23 Mar 2021 21:06:03 +0000 (UTC)',\n",
    "'Message-Id: <20210323210613.AA38B100239@abu2020>',\n",
    "'Date: Tue, 23 Mar 2021 21:06:03 +0000 (UTC)',\n",
    "'From: 0007@d.r',\n",
    "'',\n",
    "'sdsdsd',\n",
    "'']         "
   ]
  },
  {
   "cell_type": "code",
   "execution_count": 8,
   "metadata": {},
   "outputs": [
    {
     "data": {
      "text/plain": [
       "['dsivtsovcs.msu.sudsivtsov@cs.msu.suFrom 0007@d.r  Tue Mar 23 21:06:20 2021',\n",
       " 'Return-Path: <0007@d.r>',\n",
       " 'X-Original-To: dsivtsov',\n",
       " 'Delivered-To: dsivtsov@antispam-msu.site',\n",
       " 'Received: from localhost (localhost [127.0.0.1])',\n",
       " '        by abu2020 (Postfix) with SMTP id AA38B100239',\n",
       " '        for <dsivtsov>; Tue, 23 Mar 2021 21:06:03 +0000 (UTC)',\n",
       " 'Message-Id: <20210323210613.AA38B100239@abu2020>',\n",
       " 'Date: Tue, 23 Mar 2021 21:06:03 +0000 (UTC)',\n",
       " 'From: 0007@d.r',\n",
       " '',\n",
       " 'sdsdsd',\n",
       " '']"
      ]
     },
     "execution_count": 8,
     "metadata": {},
     "output_type": "execute_result"
    }
   ],
   "source": [
    "letter"
   ]
  },
  {
   "cell_type": "code",
   "execution_count": 9,
   "metadata": {},
   "outputs": [
    {
     "data": {
      "text/plain": [
       "[1, 2, 3, 4]"
      ]
     },
     "execution_count": 9,
     "metadata": {},
     "output_type": "execute_result"
    }
   ],
   "source": [
    "[1,2] + [3, 4]\n"
   ]
  },
  {
   "cell_type": "code",
   "execution_count": 10,
   "metadata": {},
   "outputs": [
    {
     "ename": "NameError",
     "evalue": "name 'c' is not defined",
     "output_type": "error",
     "traceback": [
      "\u001b[0;31m---------------------------------------------------------------------------\u001b[0m",
      "\u001b[0;31mNameError\u001b[0m                                 Traceback (most recent call last)",
      "\u001b[0;32m<ipython-input-10-2b66fd261ee5>\u001b[0m in \u001b[0;36m<module>\u001b[0;34m\u001b[0m\n\u001b[0;32m----> 1\u001b[0;31m \u001b[0mc\u001b[0m\u001b[0;34m\u001b[0m\u001b[0;34m\u001b[0m\u001b[0m\n\u001b[0m",
      "\u001b[0;31mNameError\u001b[0m: name 'c' is not defined"
     ]
    }
   ],
   "source": [
    "c"
   ]
  },
  {
   "cell_type": "code",
   "execution_count": 11,
   "metadata": {},
   "outputs": [],
   "source": [
    "req_data = {'email': 'd', 'letter':letter}\n",
    "response = requests.post('http://procagent.antispam-msu.site/classificator'\n",
    ", json=req_data)\n"
   ]
  },
  {
   "cell_type": "code",
   "execution_count": 13,
   "metadata": {},
   "outputs": [
    {
     "data": {
      "text/plain": [
       "\"{'Server': 'nginx/1.18.0 (Ubuntu)', 'Date': 'Sun, 28 Mar 2021 22:08:10 GMT', 'Content-Type': 'application/json', 'Content-Length': '37', 'Connection': 'keep-alive'}\""
      ]
     },
     "execution_count": 13,
     "metadata": {},
     "output_type": "execute_result"
    }
   ],
   "source": [
    "str(response.headers)"
   ]
  },
  {
   "cell_type": "code",
   "execution_count": null,
   "metadata": {},
   "outputs": [],
   "source": []
  },
  {
   "cell_type": "code",
   "execution_count": 84,
   "metadata": {},
   "outputs": [],
   "source": [
    "import email"
   ]
  },
  {
   "cell_type": "code",
   "execution_count": 85,
   "metadata": {},
   "outputs": [
    {
     "ename": "TypeError",
     "evalue": "initial_value must be str or None, not list",
     "output_type": "error",
     "traceback": [
      "\u001b[0;31m---------------------------------------------------------------------------\u001b[0m",
      "\u001b[0;31mTypeError\u001b[0m                                 Traceback (most recent call last)",
      "\u001b[0;32m<ipython-input-85-886a3732451f>\u001b[0m in \u001b[0;36m<module>\u001b[0;34m\u001b[0m\n\u001b[0;32m----> 1\u001b[0;31m \u001b[0ma\u001b[0m \u001b[0;34m=\u001b[0m \u001b[0memail\u001b[0m\u001b[0;34m.\u001b[0m\u001b[0mmessage_from_string\u001b[0m\u001b[0;34m(\u001b[0m\u001b[0mresponse\u001b[0m\u001b[0;34m.\u001b[0m\u001b[0mjson\u001b[0m\u001b[0;34m(\u001b[0m\u001b[0;34m)\u001b[0m\u001b[0;34m[\u001b[0m\u001b[0;34m'result'\u001b[0m\u001b[0;34m]\u001b[0m\u001b[0;34m,\u001b[0m \u001b[0m_class\u001b[0m \u001b[0;34m=\u001b[0m \u001b[0memail\u001b[0m\u001b[0;34m.\u001b[0m\u001b[0mmessage\u001b[0m\u001b[0;34m.\u001b[0m\u001b[0mEmailMessage\u001b[0m\u001b[0;34m)\u001b[0m\u001b[0;34m\u001b[0m\u001b[0;34m\u001b[0m\u001b[0m\n\u001b[0m",
      "\u001b[0;32m/usr/lib/python3.6/email/__init__.py\u001b[0m in \u001b[0;36mmessage_from_string\u001b[0;34m(s, *args, **kws)\u001b[0m\n\u001b[1;32m     36\u001b[0m     \"\"\"\n\u001b[1;32m     37\u001b[0m     \u001b[0;32mfrom\u001b[0m \u001b[0memail\u001b[0m\u001b[0;34m.\u001b[0m\u001b[0mparser\u001b[0m \u001b[0;32mimport\u001b[0m \u001b[0mParser\u001b[0m\u001b[0;34m\u001b[0m\u001b[0;34m\u001b[0m\u001b[0m\n\u001b[0;32m---> 38\u001b[0;31m     \u001b[0;32mreturn\u001b[0m \u001b[0mParser\u001b[0m\u001b[0;34m(\u001b[0m\u001b[0;34m*\u001b[0m\u001b[0margs\u001b[0m\u001b[0;34m,\u001b[0m \u001b[0;34m**\u001b[0m\u001b[0mkws\u001b[0m\u001b[0;34m)\u001b[0m\u001b[0;34m.\u001b[0m\u001b[0mparsestr\u001b[0m\u001b[0;34m(\u001b[0m\u001b[0ms\u001b[0m\u001b[0;34m)\u001b[0m\u001b[0;34m\u001b[0m\u001b[0;34m\u001b[0m\u001b[0m\n\u001b[0m\u001b[1;32m     39\u001b[0m \u001b[0;34m\u001b[0m\u001b[0m\n\u001b[1;32m     40\u001b[0m \u001b[0;32mdef\u001b[0m \u001b[0mmessage_from_bytes\u001b[0m\u001b[0;34m(\u001b[0m\u001b[0ms\u001b[0m\u001b[0;34m,\u001b[0m \u001b[0;34m*\u001b[0m\u001b[0margs\u001b[0m\u001b[0;34m,\u001b[0m \u001b[0;34m**\u001b[0m\u001b[0mkws\u001b[0m\u001b[0;34m)\u001b[0m\u001b[0;34m:\u001b[0m\u001b[0;34m\u001b[0m\u001b[0;34m\u001b[0m\u001b[0m\n",
      "\u001b[0;32m/usr/lib/python3.6/email/parser.py\u001b[0m in \u001b[0;36mparsestr\u001b[0;34m(self, text, headersonly)\u001b[0m\n\u001b[1;32m     66\u001b[0m         \u001b[0mthe\u001b[0m \u001b[0mfile\u001b[0m\u001b[0;34m.\u001b[0m\u001b[0;34m\u001b[0m\u001b[0;34m\u001b[0m\u001b[0m\n\u001b[1;32m     67\u001b[0m         \"\"\"\n\u001b[0;32m---> 68\u001b[0;31m         \u001b[0;32mreturn\u001b[0m \u001b[0mself\u001b[0m\u001b[0;34m.\u001b[0m\u001b[0mparse\u001b[0m\u001b[0;34m(\u001b[0m\u001b[0mStringIO\u001b[0m\u001b[0;34m(\u001b[0m\u001b[0mtext\u001b[0m\u001b[0;34m)\u001b[0m\u001b[0;34m,\u001b[0m \u001b[0mheadersonly\u001b[0m\u001b[0;34m=\u001b[0m\u001b[0mheadersonly\u001b[0m\u001b[0;34m)\u001b[0m\u001b[0;34m\u001b[0m\u001b[0;34m\u001b[0m\u001b[0m\n\u001b[0m\u001b[1;32m     69\u001b[0m \u001b[0;34m\u001b[0m\u001b[0m\n\u001b[1;32m     70\u001b[0m \u001b[0;34m\u001b[0m\u001b[0m\n",
      "\u001b[0;31mTypeError\u001b[0m: initial_value must be str or None, not list"
     ]
    }
   ],
   "source": [
    "a = email.message_from_string(response.json()['result'], _class = email.message.EmailMessage)"
   ]
  },
  {
   "cell_type": "code",
   "execution_count": 86,
   "metadata": {},
   "outputs": [
    {
     "ename": "SyntaxError",
     "evalue": "invalid syntax (<ipython-input-86-b4ce96ddcee0>, line 1)",
     "output_type": "error",
     "traceback": [
      "\u001b[0;36m  File \u001b[0;32m\"<ipython-input-86-b4ce96ddcee0>\"\u001b[0;36m, line \u001b[0;32m1\u001b[0m\n\u001b[0;31m    a.\u001b[0m\n\u001b[0m      ^\u001b[0m\n\u001b[0;31mSyntaxError\u001b[0m\u001b[0;31m:\u001b[0m invalid syntax\n"
     ]
    }
   ],
   "source": [
    "a."
   ]
  },
  {
   "cell_type": "code",
   "execution_count": 87,
   "metadata": {},
   "outputs": [],
   "source": [
    "ss = letter"
   ]
  },
  {
   "cell_type": "code",
   "execution_count": 88,
   "metadata": {},
   "outputs": [],
   "source": [
    "import sys"
   ]
  },
  {
   "cell_type": "code",
   "execution_count": 89,
   "metadata": {},
   "outputs": [],
   "source": [
    "def classify():\n",
    "    lines = ss\n",
    "\n",
    "    letter = lines\n",
    "\n",
    "    login = sys.argv[1]\n",
    "    domain = sys.argv[2]\n",
    "    email = login + '@' + domain\n",
    "\n",
    "\n",
    "\n",
    "    req_data = {'email': email, 'letter':letter}\n",
    "    response = requests.post('http://procagent.antispam-msu.site/classificator', json=req_data)\n",
    "\n",
    "   \n",
    "\n",
    "    letter_with_headers = response.json()['result']\n",
    "\n",
    "    for item in letter_with_headers:\n",
    "        sys.stdout.write(item)\n"
   ]
  },
  {
   "cell_type": "code",
   "execution_count": 90,
   "metadata": {},
   "outputs": [
    {
     "name": "stdout",
     "output_type": "stream",
     "text": [
      "dsivtsovcs.msu.sudsivtsov@cs.msu.suFrom 0007@d.r  Tue Mar 23 21:06:20 2021AntiSpam-Result: NO\n",
      "AntiSpam-score: 0\n",
      "Return-Path: <0007@d.r>X-Original-To: dsivtsovDelivered-To: dsivtsov@antispam-msu.siteReceived: from localhost (localhost [127.0.0.1])        by abu2020 (Postfix) with SMTP id AA38B100239        for <dsivtsov>; Tue, 23 Mar 2021 21:06:03 +0000 (UTC)Message-Id: <20210323210613.AA38B100239@abu2020>Date: Tue, 23 Mar 2021 21:06:03 +0000 (UTC)From: 0007@d.rsdsdsd"
     ]
    }
   ],
   "source": [
    "classify()"
   ]
  },
  {
   "cell_type": "code",
   "execution_count": null,
   "metadata": {},
   "outputs": [],
   "source": []
  },
  {
   "cell_type": "code",
   "execution_count": null,
   "metadata": {},
   "outputs": [],
   "source": []
  },
  {
   "cell_type": "code",
   "execution_count": null,
   "metadata": {},
   "outputs": [],
   "source": []
  },
  {
   "cell_type": "code",
   "execution_count": 91,
   "metadata": {},
   "outputs": [
    {
     "data": {
      "text/plain": [
       "['dsivtsovcs.msu.sudsivtsov@cs.msu.suFrom 0007@d.r  Tue Mar 23 21:06:20 2021',\n",
       " 'AntiSpam-Result: NO\\n',\n",
       " 'AntiSpam-score: 0\\n',\n",
       " 'Return-Path: <0007@d.r>',\n",
       " 'X-Original-To: dsivtsov',\n",
       " 'Delivered-To: dsivtsov@antispam-msu.site',\n",
       " 'Received: from localhost (localhost [127.0.0.1])',\n",
       " '        by abu2020 (Postfix) with SMTP id AA38B100239',\n",
       " '        for <dsivtsov>; Tue, 23 Mar 2021 21:06:03 +0000 (UTC)',\n",
       " 'Message-Id: <20210323210613.AA38B100239@abu2020>',\n",
       " 'Date: Tue, 23 Mar 2021 21:06:03 +0000 (UTC)',\n",
       " 'From: 0007@d.r',\n",
       " '',\n",
       " 'sdsdsd',\n",
       " '']"
      ]
     },
     "execution_count": 91,
     "metadata": {},
     "output_type": "execute_result"
    }
   ],
   "source": [
    "response.json()['result']"
   ]
  },
  {
   "cell_type": "code",
   "execution_count": 26,
   "metadata": {},
   "outputs": [
    {
     "name": "stdout",
     "output_type": "stream",
     "text": [
      "AntiSpam-Result: NO\n",
      "AntiSpam-Score: 0\n",
      "\n",
      "dsivtsovcs.msu.sudsivtsov@cs.msu.suFrom 0007@d.r  Tue Mar 23 21:06:20 2021, Return-Path: <0007@d.r>, X-Original-To: dsivtsov, Delivered-To: dsivtsov@antispam-msu.site, Received: from localhost (localhost [127.0.0.1]),         by abu2020 (Postfix) with SMTP id AA38B100239,         for <dsivtsov>; Tue, 23 Mar 2021 21:06:03 +0000 (UTC), Message-Id: <20210323210613.AA38B100239@abu2020>, Date: Tue, 23 Mar 2021 21:06:03 +0000 (UTC), From: 0007@d.r, , sdsdsd, \n"
     ]
    }
   ],
   "source": [
    "print(response.json()['result'])"
   ]
  },
  {
   "cell_type": "code",
   "execution_count": 92,
   "metadata": {},
   "outputs": [],
   "source": [
    "t = []"
   ]
  },
  {
   "cell_type": "code",
   "execution_count": 95,
   "metadata": {},
   "outputs": [
    {
     "data": {
      "text/plain": [
       "0"
      ]
     },
     "execution_count": 95,
     "metadata": {},
     "output_type": "execute_result"
    }
   ],
   "source": [
    "len(t)"
   ]
  },
  {
   "cell_type": "code",
   "execution_count": 4,
   "metadata": {},
   "outputs": [
    {
     "name": "stdout",
     "output_type": "stream",
     "text": [
      " agents\t\t\t\t     Notebooks\r\n",
      " breast-cancer.csv\t\t    'Production scripts'\r\n",
      " DBConnector.py\t\t\t     __pycache__\r\n",
      " frontend\t\t\t     README.md\r\n",
      " LICENSE\t\t\t     requirements.txt\r\n",
      " Load_sys_maillists.ipynb\t     Table.py\r\n",
      " mysql-apt-config_0.8.13-1_all.deb   TrySomeSyntax.ipynb\r\n",
      " MySQLDBConnector.py\t\t     venv\r\n"
     ]
    }
   ],
   "source": [
    "!ls"
   ]
  },
  {
   "cell_type": "code",
   "execution_count": null,
   "metadata": {},
   "outputs": [],
   "source": [
    "response = requests.post(settings['Classificator'], json=req_data)\n"
   ]
  },
  {
   "cell_type": "code",
   "execution_count": null,
   "metadata": {},
   "outputs": [],
   "source": []
  },
  {
   "cell_type": "code",
   "execution_count": 6,
   "metadata": {},
   "outputs": [],
   "source": [
    "from urllib.parse import parse_qsl"
   ]
  },
  {
   "cell_type": "code",
   "execution_count": 1,
   "metadata": {},
   "outputs": [],
   "source": [
    "d = \"a=1234&c=456\""
   ]
  },
  {
   "cell_type": "code",
   "execution_count": 8,
   "metadata": {},
   "outputs": [
    {
     "data": {
      "text/plain": [
       "{'a': '1234', 'c': '456'}"
      ]
     },
     "execution_count": 8,
     "metadata": {},
     "output_type": "execute_result"
    }
   ],
   "source": [
    "dict(parse_qsl(d))"
   ]
  },
  {
   "cell_type": "code",
   "execution_count": null,
   "metadata": {},
   "outputs": [],
   "source": []
  }
 ],
 "metadata": {
  "kernelspec": {
   "display_name": "Python 3",
   "language": "python",
   "name": "python3"
  },
  "language_info": {
   "codemirror_mode": {
    "name": "ipython",
    "version": 3
   },
   "file_extension": ".py",
   "mimetype": "text/x-python",
   "name": "python",
   "nbconvert_exporter": "python",
   "pygments_lexer": "ipython3",
   "version": "3.6.9"
  }
 },
 "nbformat": 4,
 "nbformat_minor": 4
}
